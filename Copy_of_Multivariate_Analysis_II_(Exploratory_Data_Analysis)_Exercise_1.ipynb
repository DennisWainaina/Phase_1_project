{
  "nbformat": 4,
  "nbformat_minor": 0,
  "metadata": {
    "colab": {
      "provenance": [],
      "collapsed_sections": [
        "a9BPYqunry97",
        "7KMRBJ7zr9HD",
        "zSGyg6kWsBUl",
        "ckfufNrcUHeH",
        "6XC_g-zKxe-r",
        "FlBMxEDBUc9B",
        "rF2ABPsHUtbZ",
        "vTbdjSrhVIiT",
        "lQ2G4ZPDVOXE",
        "xrmHVMVsVS--",
        "HPQviDmNtta8",
        "qjFHK1CKty7o",
        "HSsicSdvt4Zs"
      ],
      "include_colab_link": true
    },
    "kernelspec": {
      "name": "python3",
      "display_name": "Python 3"
    }
  },
  "cells": [
    {
      "cell_type": "markdown",
      "metadata": {
        "id": "view-in-github",
        "colab_type": "text"
      },
      "source": [
        "<a href=\"https://colab.research.google.com/github/DennisWainaina/Phase_1_project/blob/main/Copy_of_Multivariate_Analysis_II_(Exploratory_Data_Analysis)_Exercise_1.ipynb\" target=\"_parent\"><img src=\"https://colab.research.google.com/assets/colab-badge.svg\" alt=\"Open In Colab\"/></a>"
      ]
    },
    {
      "cell_type": "markdown",
      "metadata": {
        "id": "1qqgL4FTCh_2"
      },
      "source": [
        "<font color=\"green\">*To start working on this notebook, or any other notebook that we will use in the Moringa Data Science Course, we will need to save our own copy of it. We can do this by clicking File > Save a Copy in Drive. We will then be able to make edits to our own copy of this notebook.*</font>"
      ]
    },
    {
      "cell_type": "markdown",
      "metadata": {
        "id": "xMxtPsqcTsSH"
      },
      "source": [
        "# Multivariate Analysis I (Exploratory Data Analysis) - Exercise 1"
      ]
    },
    {
      "cell_type": "markdown",
      "metadata": {
        "id": "kLG2VTrnTvYL"
      },
      "source": [
        "## 1. Defining the Question"
      ]
    },
    {
      "cell_type": "markdown",
      "metadata": {
        "id": "XecOwPNorl2W"
      },
      "source": [
        "### a) Specifying the Data Analytic Question"
      ]
    },
    {
      "cell_type": "markdown",
      "metadata": {
        "id": "9ozBnKfehSAw"
      },
      "source": [
        "> Microsoft has seen all big companies create original movie content and want to get in on the fun. They want to start making movies but they\n",
        "do not know anything about them.\n",
        "\n",
        "> **Problem Statement:** As a Data Scientist hired by Microsoft, the problem to solve is to determine the type of films doing currently doing best at the box office. One must then use these findings to provide actionable insights to the head of Microsoft's new movie studio.He will then use this info to determine what type of movies to make."
      ]
    },
    {
      "cell_type": "markdown",
      "metadata": {
        "id": "J4wfHZwQrs-t"
      },
      "source": [
        "### b) Defining the Metric for Success"
      ]
    },
    {
      "cell_type": "markdown",
      "metadata": {
        "id": "a9BPYqunry97"
      },
      "source": [
        "### c) Understanding the context "
      ]
    },
    {
      "cell_type": "markdown",
      "metadata": {
        "id": "7KMRBJ7zr9HD"
      },
      "source": [
        "### d) Recording the Experimental Design"
      ]
    },
    {
      "cell_type": "markdown",
      "metadata": {
        "id": "zSGyg6kWsBUl"
      },
      "source": [
        "### e) Data Relevance"
      ]
    },
    {
      "cell_type": "markdown",
      "metadata": {
        "id": "iUNbvIvnT7ep"
      },
      "source": [
        "## 2. Reading the Data"
      ]
    },
    {
      "cell_type": "code",
      "metadata": {
        "id": "XJn2KjW-WMlG",
        "colab": {
          "base_uri": "https://localhost:8080/",
          "height": 441
        },
        "outputId": "6db57d66-82f6-44f3-daff-04693e67ca5a"
      },
      "source": [
        "import pandas as pd\n",
        "!pwd\n",
        "gross_data = pd.read_csv('/content/Phase_1_project/bom.movie_gross.csv')\n",
        "gross_data"
      ],
      "execution_count": 11,
      "outputs": [
        {
          "output_type": "stream",
          "name": "stdout",
          "text": [
            "/content\n"
          ]
        },
        {
          "output_type": "execute_result",
          "data": {
            "text/plain": [
              "                                            title      studio  domestic_gross  \\\n",
              "0                                     Toy Story 3          BV     415000000.0   \n",
              "1                      Alice in Wonderland (2010)          BV     334200000.0   \n",
              "2     Harry Potter and the Deathly Hallows Part 1          WB     296000000.0   \n",
              "3                                       Inception          WB     292600000.0   \n",
              "4                             Shrek Forever After        P/DW     238700000.0   \n",
              "...                                           ...         ...             ...   \n",
              "3382                                    The Quake       Magn.          6200.0   \n",
              "3383                  Edward II (2018 re-release)          FM          4800.0   \n",
              "3384                                     El Pacto        Sony          2500.0   \n",
              "3385                                     The Swan  Synergetic          2400.0   \n",
              "3386                            An Actor Prepares       Grav.          1700.0   \n",
              "\n",
              "     foreign_gross  year  \n",
              "0        652000000  2010  \n",
              "1        691300000  2010  \n",
              "2        664300000  2010  \n",
              "3        535700000  2010  \n",
              "4        513900000  2010  \n",
              "...            ...   ...  \n",
              "3382           NaN  2018  \n",
              "3383           NaN  2018  \n",
              "3384           NaN  2018  \n",
              "3385           NaN  2018  \n",
              "3386           NaN  2018  \n",
              "\n",
              "[3387 rows x 5 columns]"
            ],
            "text/html": [
              "\n",
              "  <div id=\"df-05c86e9a-a314-4a19-81e4-634a6d2553a4\">\n",
              "    <div class=\"colab-df-container\">\n",
              "      <div>\n",
              "<style scoped>\n",
              "    .dataframe tbody tr th:only-of-type {\n",
              "        vertical-align: middle;\n",
              "    }\n",
              "\n",
              "    .dataframe tbody tr th {\n",
              "        vertical-align: top;\n",
              "    }\n",
              "\n",
              "    .dataframe thead th {\n",
              "        text-align: right;\n",
              "    }\n",
              "</style>\n",
              "<table border=\"1\" class=\"dataframe\">\n",
              "  <thead>\n",
              "    <tr style=\"text-align: right;\">\n",
              "      <th></th>\n",
              "      <th>title</th>\n",
              "      <th>studio</th>\n",
              "      <th>domestic_gross</th>\n",
              "      <th>foreign_gross</th>\n",
              "      <th>year</th>\n",
              "    </tr>\n",
              "  </thead>\n",
              "  <tbody>\n",
              "    <tr>\n",
              "      <th>0</th>\n",
              "      <td>Toy Story 3</td>\n",
              "      <td>BV</td>\n",
              "      <td>415000000.0</td>\n",
              "      <td>652000000</td>\n",
              "      <td>2010</td>\n",
              "    </tr>\n",
              "    <tr>\n",
              "      <th>1</th>\n",
              "      <td>Alice in Wonderland (2010)</td>\n",
              "      <td>BV</td>\n",
              "      <td>334200000.0</td>\n",
              "      <td>691300000</td>\n",
              "      <td>2010</td>\n",
              "    </tr>\n",
              "    <tr>\n",
              "      <th>2</th>\n",
              "      <td>Harry Potter and the Deathly Hallows Part 1</td>\n",
              "      <td>WB</td>\n",
              "      <td>296000000.0</td>\n",
              "      <td>664300000</td>\n",
              "      <td>2010</td>\n",
              "    </tr>\n",
              "    <tr>\n",
              "      <th>3</th>\n",
              "      <td>Inception</td>\n",
              "      <td>WB</td>\n",
              "      <td>292600000.0</td>\n",
              "      <td>535700000</td>\n",
              "      <td>2010</td>\n",
              "    </tr>\n",
              "    <tr>\n",
              "      <th>4</th>\n",
              "      <td>Shrek Forever After</td>\n",
              "      <td>P/DW</td>\n",
              "      <td>238700000.0</td>\n",
              "      <td>513900000</td>\n",
              "      <td>2010</td>\n",
              "    </tr>\n",
              "    <tr>\n",
              "      <th>...</th>\n",
              "      <td>...</td>\n",
              "      <td>...</td>\n",
              "      <td>...</td>\n",
              "      <td>...</td>\n",
              "      <td>...</td>\n",
              "    </tr>\n",
              "    <tr>\n",
              "      <th>3382</th>\n",
              "      <td>The Quake</td>\n",
              "      <td>Magn.</td>\n",
              "      <td>6200.0</td>\n",
              "      <td>NaN</td>\n",
              "      <td>2018</td>\n",
              "    </tr>\n",
              "    <tr>\n",
              "      <th>3383</th>\n",
              "      <td>Edward II (2018 re-release)</td>\n",
              "      <td>FM</td>\n",
              "      <td>4800.0</td>\n",
              "      <td>NaN</td>\n",
              "      <td>2018</td>\n",
              "    </tr>\n",
              "    <tr>\n",
              "      <th>3384</th>\n",
              "      <td>El Pacto</td>\n",
              "      <td>Sony</td>\n",
              "      <td>2500.0</td>\n",
              "      <td>NaN</td>\n",
              "      <td>2018</td>\n",
              "    </tr>\n",
              "    <tr>\n",
              "      <th>3385</th>\n",
              "      <td>The Swan</td>\n",
              "      <td>Synergetic</td>\n",
              "      <td>2400.0</td>\n",
              "      <td>NaN</td>\n",
              "      <td>2018</td>\n",
              "    </tr>\n",
              "    <tr>\n",
              "      <th>3386</th>\n",
              "      <td>An Actor Prepares</td>\n",
              "      <td>Grav.</td>\n",
              "      <td>1700.0</td>\n",
              "      <td>NaN</td>\n",
              "      <td>2018</td>\n",
              "    </tr>\n",
              "  </tbody>\n",
              "</table>\n",
              "<p>3387 rows × 5 columns</p>\n",
              "</div>\n",
              "      <button class=\"colab-df-convert\" onclick=\"convertToInteractive('df-05c86e9a-a314-4a19-81e4-634a6d2553a4')\"\n",
              "              title=\"Convert this dataframe to an interactive table.\"\n",
              "              style=\"display:none;\">\n",
              "        \n",
              "  <svg xmlns=\"http://www.w3.org/2000/svg\" height=\"24px\"viewBox=\"0 0 24 24\"\n",
              "       width=\"24px\">\n",
              "    <path d=\"M0 0h24v24H0V0z\" fill=\"none\"/>\n",
              "    <path d=\"M18.56 5.44l.94 2.06.94-2.06 2.06-.94-2.06-.94-.94-2.06-.94 2.06-2.06.94zm-11 1L8.5 8.5l.94-2.06 2.06-.94-2.06-.94L8.5 2.5l-.94 2.06-2.06.94zm10 10l.94 2.06.94-2.06 2.06-.94-2.06-.94-.94-2.06-.94 2.06-2.06.94z\"/><path d=\"M17.41 7.96l-1.37-1.37c-.4-.4-.92-.59-1.43-.59-.52 0-1.04.2-1.43.59L10.3 9.45l-7.72 7.72c-.78.78-.78 2.05 0 2.83L4 21.41c.39.39.9.59 1.41.59.51 0 1.02-.2 1.41-.59l7.78-7.78 2.81-2.81c.8-.78.8-2.07 0-2.86zM5.41 20L4 18.59l7.72-7.72 1.47 1.35L5.41 20z\"/>\n",
              "  </svg>\n",
              "      </button>\n",
              "      \n",
              "  <style>\n",
              "    .colab-df-container {\n",
              "      display:flex;\n",
              "      flex-wrap:wrap;\n",
              "      gap: 12px;\n",
              "    }\n",
              "\n",
              "    .colab-df-convert {\n",
              "      background-color: #E8F0FE;\n",
              "      border: none;\n",
              "      border-radius: 50%;\n",
              "      cursor: pointer;\n",
              "      display: none;\n",
              "      fill: #1967D2;\n",
              "      height: 32px;\n",
              "      padding: 0 0 0 0;\n",
              "      width: 32px;\n",
              "    }\n",
              "\n",
              "    .colab-df-convert:hover {\n",
              "      background-color: #E2EBFA;\n",
              "      box-shadow: 0px 1px 2px rgba(60, 64, 67, 0.3), 0px 1px 3px 1px rgba(60, 64, 67, 0.15);\n",
              "      fill: #174EA6;\n",
              "    }\n",
              "\n",
              "    [theme=dark] .colab-df-convert {\n",
              "      background-color: #3B4455;\n",
              "      fill: #D2E3FC;\n",
              "    }\n",
              "\n",
              "    [theme=dark] .colab-df-convert:hover {\n",
              "      background-color: #434B5C;\n",
              "      box-shadow: 0px 1px 3px 1px rgba(0, 0, 0, 0.15);\n",
              "      filter: drop-shadow(0px 1px 2px rgba(0, 0, 0, 0.3));\n",
              "      fill: #FFFFFF;\n",
              "    }\n",
              "  </style>\n",
              "\n",
              "      <script>\n",
              "        const buttonEl =\n",
              "          document.querySelector('#df-05c86e9a-a314-4a19-81e4-634a6d2553a4 button.colab-df-convert');\n",
              "        buttonEl.style.display =\n",
              "          google.colab.kernel.accessAllowed ? 'block' : 'none';\n",
              "\n",
              "        async function convertToInteractive(key) {\n",
              "          const element = document.querySelector('#df-05c86e9a-a314-4a19-81e4-634a6d2553a4');\n",
              "          const dataTable =\n",
              "            await google.colab.kernel.invokeFunction('convertToInteractive',\n",
              "                                                     [key], {});\n",
              "          if (!dataTable) return;\n",
              "\n",
              "          const docLinkHtml = 'Like what you see? Visit the ' +\n",
              "            '<a target=\"_blank\" href=https://colab.research.google.com/notebooks/data_table.ipynb>data table notebook</a>'\n",
              "            + ' to learn more about interactive tables.';\n",
              "          element.innerHTML = '';\n",
              "          dataTable['output_type'] = 'display_data';\n",
              "          await google.colab.output.renderOutput(dataTable, element);\n",
              "          const docLink = document.createElement('div');\n",
              "          docLink.innerHTML = docLinkHtml;\n",
              "          element.appendChild(docLink);\n",
              "        }\n",
              "      </script>\n",
              "    </div>\n",
              "  </div>\n",
              "  "
            ]
          },
          "metadata": {},
          "execution_count": 11
        }
      ]
    },
    {
      "cell_type": "code",
      "source": [
        "ratings_data = pd.read_csv('/content/Phase_1_project/title.ratings.csv')\n",
        "ratings_data"
      ],
      "metadata": {
        "colab": {
          "base_uri": "https://localhost:8080/",
          "height": 423
        },
        "id": "3cXu6bnLS7oY",
        "outputId": "6e18f0f2-6f75-4aa4-8a57-0f59dbffff09"
      },
      "execution_count": 13,
      "outputs": [
        {
          "output_type": "execute_result",
          "data": {
            "text/plain": [
              "           tconst  averagerating  numvotes\n",
              "0      tt10356526            8.3        31\n",
              "1      tt10384606            8.9       559\n",
              "2       tt1042974            6.4        20\n",
              "3       tt1043726            4.2     50352\n",
              "4       tt1060240            6.5        21\n",
              "...           ...            ...       ...\n",
              "73851   tt9805820            8.1        25\n",
              "73852   tt9844256            7.5        24\n",
              "73853   tt9851050            4.7        14\n",
              "73854   tt9886934            7.0         5\n",
              "73855   tt9894098            6.3       128\n",
              "\n",
              "[73856 rows x 3 columns]"
            ],
            "text/html": [
              "\n",
              "  <div id=\"df-cdb3974d-fd01-4aac-b200-c53ac859fe50\">\n",
              "    <div class=\"colab-df-container\">\n",
              "      <div>\n",
              "<style scoped>\n",
              "    .dataframe tbody tr th:only-of-type {\n",
              "        vertical-align: middle;\n",
              "    }\n",
              "\n",
              "    .dataframe tbody tr th {\n",
              "        vertical-align: top;\n",
              "    }\n",
              "\n",
              "    .dataframe thead th {\n",
              "        text-align: right;\n",
              "    }\n",
              "</style>\n",
              "<table border=\"1\" class=\"dataframe\">\n",
              "  <thead>\n",
              "    <tr style=\"text-align: right;\">\n",
              "      <th></th>\n",
              "      <th>tconst</th>\n",
              "      <th>averagerating</th>\n",
              "      <th>numvotes</th>\n",
              "    </tr>\n",
              "  </thead>\n",
              "  <tbody>\n",
              "    <tr>\n",
              "      <th>0</th>\n",
              "      <td>tt10356526</td>\n",
              "      <td>8.3</td>\n",
              "      <td>31</td>\n",
              "    </tr>\n",
              "    <tr>\n",
              "      <th>1</th>\n",
              "      <td>tt10384606</td>\n",
              "      <td>8.9</td>\n",
              "      <td>559</td>\n",
              "    </tr>\n",
              "    <tr>\n",
              "      <th>2</th>\n",
              "      <td>tt1042974</td>\n",
              "      <td>6.4</td>\n",
              "      <td>20</td>\n",
              "    </tr>\n",
              "    <tr>\n",
              "      <th>3</th>\n",
              "      <td>tt1043726</td>\n",
              "      <td>4.2</td>\n",
              "      <td>50352</td>\n",
              "    </tr>\n",
              "    <tr>\n",
              "      <th>4</th>\n",
              "      <td>tt1060240</td>\n",
              "      <td>6.5</td>\n",
              "      <td>21</td>\n",
              "    </tr>\n",
              "    <tr>\n",
              "      <th>...</th>\n",
              "      <td>...</td>\n",
              "      <td>...</td>\n",
              "      <td>...</td>\n",
              "    </tr>\n",
              "    <tr>\n",
              "      <th>73851</th>\n",
              "      <td>tt9805820</td>\n",
              "      <td>8.1</td>\n",
              "      <td>25</td>\n",
              "    </tr>\n",
              "    <tr>\n",
              "      <th>73852</th>\n",
              "      <td>tt9844256</td>\n",
              "      <td>7.5</td>\n",
              "      <td>24</td>\n",
              "    </tr>\n",
              "    <tr>\n",
              "      <th>73853</th>\n",
              "      <td>tt9851050</td>\n",
              "      <td>4.7</td>\n",
              "      <td>14</td>\n",
              "    </tr>\n",
              "    <tr>\n",
              "      <th>73854</th>\n",
              "      <td>tt9886934</td>\n",
              "      <td>7.0</td>\n",
              "      <td>5</td>\n",
              "    </tr>\n",
              "    <tr>\n",
              "      <th>73855</th>\n",
              "      <td>tt9894098</td>\n",
              "      <td>6.3</td>\n",
              "      <td>128</td>\n",
              "    </tr>\n",
              "  </tbody>\n",
              "</table>\n",
              "<p>73856 rows × 3 columns</p>\n",
              "</div>\n",
              "      <button class=\"colab-df-convert\" onclick=\"convertToInteractive('df-cdb3974d-fd01-4aac-b200-c53ac859fe50')\"\n",
              "              title=\"Convert this dataframe to an interactive table.\"\n",
              "              style=\"display:none;\">\n",
              "        \n",
              "  <svg xmlns=\"http://www.w3.org/2000/svg\" height=\"24px\"viewBox=\"0 0 24 24\"\n",
              "       width=\"24px\">\n",
              "    <path d=\"M0 0h24v24H0V0z\" fill=\"none\"/>\n",
              "    <path d=\"M18.56 5.44l.94 2.06.94-2.06 2.06-.94-2.06-.94-.94-2.06-.94 2.06-2.06.94zm-11 1L8.5 8.5l.94-2.06 2.06-.94-2.06-.94L8.5 2.5l-.94 2.06-2.06.94zm10 10l.94 2.06.94-2.06 2.06-.94-2.06-.94-.94-2.06-.94 2.06-2.06.94z\"/><path d=\"M17.41 7.96l-1.37-1.37c-.4-.4-.92-.59-1.43-.59-.52 0-1.04.2-1.43.59L10.3 9.45l-7.72 7.72c-.78.78-.78 2.05 0 2.83L4 21.41c.39.39.9.59 1.41.59.51 0 1.02-.2 1.41-.59l7.78-7.78 2.81-2.81c.8-.78.8-2.07 0-2.86zM5.41 20L4 18.59l7.72-7.72 1.47 1.35L5.41 20z\"/>\n",
              "  </svg>\n",
              "      </button>\n",
              "      \n",
              "  <style>\n",
              "    .colab-df-container {\n",
              "      display:flex;\n",
              "      flex-wrap:wrap;\n",
              "      gap: 12px;\n",
              "    }\n",
              "\n",
              "    .colab-df-convert {\n",
              "      background-color: #E8F0FE;\n",
              "      border: none;\n",
              "      border-radius: 50%;\n",
              "      cursor: pointer;\n",
              "      display: none;\n",
              "      fill: #1967D2;\n",
              "      height: 32px;\n",
              "      padding: 0 0 0 0;\n",
              "      width: 32px;\n",
              "    }\n",
              "\n",
              "    .colab-df-convert:hover {\n",
              "      background-color: #E2EBFA;\n",
              "      box-shadow: 0px 1px 2px rgba(60, 64, 67, 0.3), 0px 1px 3px 1px rgba(60, 64, 67, 0.15);\n",
              "      fill: #174EA6;\n",
              "    }\n",
              "\n",
              "    [theme=dark] .colab-df-convert {\n",
              "      background-color: #3B4455;\n",
              "      fill: #D2E3FC;\n",
              "    }\n",
              "\n",
              "    [theme=dark] .colab-df-convert:hover {\n",
              "      background-color: #434B5C;\n",
              "      box-shadow: 0px 1px 3px 1px rgba(0, 0, 0, 0.15);\n",
              "      filter: drop-shadow(0px 1px 2px rgba(0, 0, 0, 0.3));\n",
              "      fill: #FFFFFF;\n",
              "    }\n",
              "  </style>\n",
              "\n",
              "      <script>\n",
              "        const buttonEl =\n",
              "          document.querySelector('#df-cdb3974d-fd01-4aac-b200-c53ac859fe50 button.colab-df-convert');\n",
              "        buttonEl.style.display =\n",
              "          google.colab.kernel.accessAllowed ? 'block' : 'none';\n",
              "\n",
              "        async function convertToInteractive(key) {\n",
              "          const element = document.querySelector('#df-cdb3974d-fd01-4aac-b200-c53ac859fe50');\n",
              "          const dataTable =\n",
              "            await google.colab.kernel.invokeFunction('convertToInteractive',\n",
              "                                                     [key], {});\n",
              "          if (!dataTable) return;\n",
              "\n",
              "          const docLinkHtml = 'Like what you see? Visit the ' +\n",
              "            '<a target=\"_blank\" href=https://colab.research.google.com/notebooks/data_table.ipynb>data table notebook</a>'\n",
              "            + ' to learn more about interactive tables.';\n",
              "          element.innerHTML = '';\n",
              "          dataTable['output_type'] = 'display_data';\n",
              "          await google.colab.output.renderOutput(dataTable, element);\n",
              "          const docLink = document.createElement('div');\n",
              "          docLink.innerHTML = docLinkHtml;\n",
              "          element.appendChild(docLink);\n",
              "        }\n",
              "      </script>\n",
              "    </div>\n",
              "  </div>\n",
              "  "
            ]
          },
          "metadata": {},
          "execution_count": 13
        }
      ]
    },
    {
      "cell_type": "code",
      "source": [
        "reviews_data = pd.read_csv('/content/Phase_1_project/rt.reviews.tsv', delimiter='\\t', encoding='latin1')\n",
        "reviews_data"
      ],
      "metadata": {
        "colab": {
          "base_uri": "https://localhost:8080/",
          "height": 423
        },
        "id": "amh4drQVTxhR",
        "outputId": "99ec771d-a62c-44e2-9ac1-09116e27c47a"
      },
      "execution_count": 19,
      "outputs": [
        {
          "output_type": "execute_result",
          "data": {
            "text/plain": [
              "         id                                             review rating   fresh  \\\n",
              "0         3  A distinctly gallows take on contemporary fina...    3/5   fresh   \n",
              "1         3  It's an allegory in search of a meaning that n...    NaN  rotten   \n",
              "2         3  ... life lived in a bubble in financial dealin...    NaN   fresh   \n",
              "3         3  Continuing along a line introduced in last yea...    NaN   fresh   \n",
              "4         3             ... a perverse twist on neorealism...     NaN   fresh   \n",
              "...     ...                                                ...    ...     ...   \n",
              "54427  2000  The real charm of this trifle is the deadpan c...    NaN   fresh   \n",
              "54428  2000                                                NaN    1/5  rotten   \n",
              "54429  2000                                                NaN    2/5  rotten   \n",
              "54430  2000                                                NaN  2.5/5  rotten   \n",
              "54431  2000                                                NaN    3/5   fresh   \n",
              "\n",
              "                  critic  top_critic         publisher                date  \n",
              "0             PJ Nabarro           0   Patrick Nabarro   November 10, 2018  \n",
              "1         Annalee Newitz           0           io9.com        May 23, 2018  \n",
              "2           Sean Axmaker           0  Stream on Demand     January 4, 2018  \n",
              "3          Daniel Kasman           0              MUBI   November 16, 2017  \n",
              "4                    NaN           0      Cinema Scope    October 12, 2017  \n",
              "...                  ...         ...               ...                 ...  \n",
              "54427      Laura Sinagra           1     Village Voice  September 24, 2002  \n",
              "54428  Michael Szymanski           0        Zap2it.com  September 21, 2005  \n",
              "54429       Emanuel Levy           0   EmanuelLevy.Com       July 17, 2005  \n",
              "54430   Christopher Null           0    Filmcritic.com   September 7, 2003  \n",
              "54431    Nicolas Lacroix           0      Showbizz.net   November 12, 2002  \n",
              "\n",
              "[54432 rows x 8 columns]"
            ],
            "text/html": [
              "\n",
              "  <div id=\"df-e72cb001-6dcd-4239-9574-8ca7434c45f2\">\n",
              "    <div class=\"colab-df-container\">\n",
              "      <div>\n",
              "<style scoped>\n",
              "    .dataframe tbody tr th:only-of-type {\n",
              "        vertical-align: middle;\n",
              "    }\n",
              "\n",
              "    .dataframe tbody tr th {\n",
              "        vertical-align: top;\n",
              "    }\n",
              "\n",
              "    .dataframe thead th {\n",
              "        text-align: right;\n",
              "    }\n",
              "</style>\n",
              "<table border=\"1\" class=\"dataframe\">\n",
              "  <thead>\n",
              "    <tr style=\"text-align: right;\">\n",
              "      <th></th>\n",
              "      <th>id</th>\n",
              "      <th>review</th>\n",
              "      <th>rating</th>\n",
              "      <th>fresh</th>\n",
              "      <th>critic</th>\n",
              "      <th>top_critic</th>\n",
              "      <th>publisher</th>\n",
              "      <th>date</th>\n",
              "    </tr>\n",
              "  </thead>\n",
              "  <tbody>\n",
              "    <tr>\n",
              "      <th>0</th>\n",
              "      <td>3</td>\n",
              "      <td>A distinctly gallows take on contemporary fina...</td>\n",
              "      <td>3/5</td>\n",
              "      <td>fresh</td>\n",
              "      <td>PJ Nabarro</td>\n",
              "      <td>0</td>\n",
              "      <td>Patrick Nabarro</td>\n",
              "      <td>November 10, 2018</td>\n",
              "    </tr>\n",
              "    <tr>\n",
              "      <th>1</th>\n",
              "      <td>3</td>\n",
              "      <td>It's an allegory in search of a meaning that n...</td>\n",
              "      <td>NaN</td>\n",
              "      <td>rotten</td>\n",
              "      <td>Annalee Newitz</td>\n",
              "      <td>0</td>\n",
              "      <td>io9.com</td>\n",
              "      <td>May 23, 2018</td>\n",
              "    </tr>\n",
              "    <tr>\n",
              "      <th>2</th>\n",
              "      <td>3</td>\n",
              "      <td>... life lived in a bubble in financial dealin...</td>\n",
              "      <td>NaN</td>\n",
              "      <td>fresh</td>\n",
              "      <td>Sean Axmaker</td>\n",
              "      <td>0</td>\n",
              "      <td>Stream on Demand</td>\n",
              "      <td>January 4, 2018</td>\n",
              "    </tr>\n",
              "    <tr>\n",
              "      <th>3</th>\n",
              "      <td>3</td>\n",
              "      <td>Continuing along a line introduced in last yea...</td>\n",
              "      <td>NaN</td>\n",
              "      <td>fresh</td>\n",
              "      <td>Daniel Kasman</td>\n",
              "      <td>0</td>\n",
              "      <td>MUBI</td>\n",
              "      <td>November 16, 2017</td>\n",
              "    </tr>\n",
              "    <tr>\n",
              "      <th>4</th>\n",
              "      <td>3</td>\n",
              "      <td>... a perverse twist on neorealism...</td>\n",
              "      <td>NaN</td>\n",
              "      <td>fresh</td>\n",
              "      <td>NaN</td>\n",
              "      <td>0</td>\n",
              "      <td>Cinema Scope</td>\n",
              "      <td>October 12, 2017</td>\n",
              "    </tr>\n",
              "    <tr>\n",
              "      <th>...</th>\n",
              "      <td>...</td>\n",
              "      <td>...</td>\n",
              "      <td>...</td>\n",
              "      <td>...</td>\n",
              "      <td>...</td>\n",
              "      <td>...</td>\n",
              "      <td>...</td>\n",
              "      <td>...</td>\n",
              "    </tr>\n",
              "    <tr>\n",
              "      <th>54427</th>\n",
              "      <td>2000</td>\n",
              "      <td>The real charm of this trifle is the deadpan c...</td>\n",
              "      <td>NaN</td>\n",
              "      <td>fresh</td>\n",
              "      <td>Laura Sinagra</td>\n",
              "      <td>1</td>\n",
              "      <td>Village Voice</td>\n",
              "      <td>September 24, 2002</td>\n",
              "    </tr>\n",
              "    <tr>\n",
              "      <th>54428</th>\n",
              "      <td>2000</td>\n",
              "      <td>NaN</td>\n",
              "      <td>1/5</td>\n",
              "      <td>rotten</td>\n",
              "      <td>Michael Szymanski</td>\n",
              "      <td>0</td>\n",
              "      <td>Zap2it.com</td>\n",
              "      <td>September 21, 2005</td>\n",
              "    </tr>\n",
              "    <tr>\n",
              "      <th>54429</th>\n",
              "      <td>2000</td>\n",
              "      <td>NaN</td>\n",
              "      <td>2/5</td>\n",
              "      <td>rotten</td>\n",
              "      <td>Emanuel Levy</td>\n",
              "      <td>0</td>\n",
              "      <td>EmanuelLevy.Com</td>\n",
              "      <td>July 17, 2005</td>\n",
              "    </tr>\n",
              "    <tr>\n",
              "      <th>54430</th>\n",
              "      <td>2000</td>\n",
              "      <td>NaN</td>\n",
              "      <td>2.5/5</td>\n",
              "      <td>rotten</td>\n",
              "      <td>Christopher Null</td>\n",
              "      <td>0</td>\n",
              "      <td>Filmcritic.com</td>\n",
              "      <td>September 7, 2003</td>\n",
              "    </tr>\n",
              "    <tr>\n",
              "      <th>54431</th>\n",
              "      <td>2000</td>\n",
              "      <td>NaN</td>\n",
              "      <td>3/5</td>\n",
              "      <td>fresh</td>\n",
              "      <td>Nicolas Lacroix</td>\n",
              "      <td>0</td>\n",
              "      <td>Showbizz.net</td>\n",
              "      <td>November 12, 2002</td>\n",
              "    </tr>\n",
              "  </tbody>\n",
              "</table>\n",
              "<p>54432 rows × 8 columns</p>\n",
              "</div>\n",
              "      <button class=\"colab-df-convert\" onclick=\"convertToInteractive('df-e72cb001-6dcd-4239-9574-8ca7434c45f2')\"\n",
              "              title=\"Convert this dataframe to an interactive table.\"\n",
              "              style=\"display:none;\">\n",
              "        \n",
              "  <svg xmlns=\"http://www.w3.org/2000/svg\" height=\"24px\"viewBox=\"0 0 24 24\"\n",
              "       width=\"24px\">\n",
              "    <path d=\"M0 0h24v24H0V0z\" fill=\"none\"/>\n",
              "    <path d=\"M18.56 5.44l.94 2.06.94-2.06 2.06-.94-2.06-.94-.94-2.06-.94 2.06-2.06.94zm-11 1L8.5 8.5l.94-2.06 2.06-.94-2.06-.94L8.5 2.5l-.94 2.06-2.06.94zm10 10l.94 2.06.94-2.06 2.06-.94-2.06-.94-.94-2.06-.94 2.06-2.06.94z\"/><path d=\"M17.41 7.96l-1.37-1.37c-.4-.4-.92-.59-1.43-.59-.52 0-1.04.2-1.43.59L10.3 9.45l-7.72 7.72c-.78.78-.78 2.05 0 2.83L4 21.41c.39.39.9.59 1.41.59.51 0 1.02-.2 1.41-.59l7.78-7.78 2.81-2.81c.8-.78.8-2.07 0-2.86zM5.41 20L4 18.59l7.72-7.72 1.47 1.35L5.41 20z\"/>\n",
              "  </svg>\n",
              "      </button>\n",
              "      \n",
              "  <style>\n",
              "    .colab-df-container {\n",
              "      display:flex;\n",
              "      flex-wrap:wrap;\n",
              "      gap: 12px;\n",
              "    }\n",
              "\n",
              "    .colab-df-convert {\n",
              "      background-color: #E8F0FE;\n",
              "      border: none;\n",
              "      border-radius: 50%;\n",
              "      cursor: pointer;\n",
              "      display: none;\n",
              "      fill: #1967D2;\n",
              "      height: 32px;\n",
              "      padding: 0 0 0 0;\n",
              "      width: 32px;\n",
              "    }\n",
              "\n",
              "    .colab-df-convert:hover {\n",
              "      background-color: #E2EBFA;\n",
              "      box-shadow: 0px 1px 2px rgba(60, 64, 67, 0.3), 0px 1px 3px 1px rgba(60, 64, 67, 0.15);\n",
              "      fill: #174EA6;\n",
              "    }\n",
              "\n",
              "    [theme=dark] .colab-df-convert {\n",
              "      background-color: #3B4455;\n",
              "      fill: #D2E3FC;\n",
              "    }\n",
              "\n",
              "    [theme=dark] .colab-df-convert:hover {\n",
              "      background-color: #434B5C;\n",
              "      box-shadow: 0px 1px 3px 1px rgba(0, 0, 0, 0.15);\n",
              "      filter: drop-shadow(0px 1px 2px rgba(0, 0, 0, 0.3));\n",
              "      fill: #FFFFFF;\n",
              "    }\n",
              "  </style>\n",
              "\n",
              "      <script>\n",
              "        const buttonEl =\n",
              "          document.querySelector('#df-e72cb001-6dcd-4239-9574-8ca7434c45f2 button.colab-df-convert');\n",
              "        buttonEl.style.display =\n",
              "          google.colab.kernel.accessAllowed ? 'block' : 'none';\n",
              "\n",
              "        async function convertToInteractive(key) {\n",
              "          const element = document.querySelector('#df-e72cb001-6dcd-4239-9574-8ca7434c45f2');\n",
              "          const dataTable =\n",
              "            await google.colab.kernel.invokeFunction('convertToInteractive',\n",
              "                                                     [key], {});\n",
              "          if (!dataTable) return;\n",
              "\n",
              "          const docLinkHtml = 'Like what you see? Visit the ' +\n",
              "            '<a target=\"_blank\" href=https://colab.research.google.com/notebooks/data_table.ipynb>data table notebook</a>'\n",
              "            + ' to learn more about interactive tables.';\n",
              "          element.innerHTML = '';\n",
              "          dataTable['output_type'] = 'display_data';\n",
              "          await google.colab.output.renderOutput(dataTable, element);\n",
              "          const docLink = document.createElement('div');\n",
              "          docLink.innerHTML = docLinkHtml;\n",
              "          element.appendChild(docLink);\n",
              "        }\n",
              "      </script>\n",
              "    </div>\n",
              "  </div>\n",
              "  "
            ]
          },
          "metadata": {},
          "execution_count": 19
        }
      ]
    },
    {
      "cell_type": "code",
      "source": [
        "budgets_data = pd.read_csv('/content/Phase_1_project/tn.movie_budgets.csv')\n",
        "budgets_data"
      ],
      "metadata": {
        "colab": {
          "base_uri": "https://localhost:8080/",
          "height": 423
        },
        "id": "4kkfuR1uVyKf",
        "outputId": "30884e9b-36a9-4848-ad30-1b94ad1cac31"
      },
      "execution_count": 20,
      "outputs": [
        {
          "output_type": "execute_result",
          "data": {
            "text/plain": [
              "      id  release_date                                        movie  \\\n",
              "0      1  Dec 18, 2009                                       Avatar   \n",
              "1      2  May 20, 2011  Pirates of the Caribbean: On Stranger Tides   \n",
              "2      3   Jun 7, 2019                                 Dark Phoenix   \n",
              "3      4   May 1, 2015                      Avengers: Age of Ultron   \n",
              "4      5  Dec 15, 2017            Star Wars Ep. VIII: The Last Jedi   \n",
              "...   ..           ...                                          ...   \n",
              "5777  78  Dec 31, 2018                                       Red 11   \n",
              "5778  79   Apr 2, 1999                                    Following   \n",
              "5779  80  Jul 13, 2005                Return to the Land of Wonders   \n",
              "5780  81  Sep 29, 2015                         A Plague So Pleasant   \n",
              "5781  82   Aug 5, 2005                            My Date With Drew   \n",
              "\n",
              "     production_budget domestic_gross worldwide_gross  \n",
              "0         $425,000,000   $760,507,625  $2,776,345,279  \n",
              "1         $410,600,000   $241,063,875  $1,045,663,875  \n",
              "2         $350,000,000    $42,762,350    $149,762,350  \n",
              "3         $330,600,000   $459,005,868  $1,403,013,963  \n",
              "4         $317,000,000   $620,181,382  $1,316,721,747  \n",
              "...                ...            ...             ...  \n",
              "5777            $7,000             $0              $0  \n",
              "5778            $6,000        $48,482        $240,495  \n",
              "5779            $5,000         $1,338          $1,338  \n",
              "5780            $1,400             $0              $0  \n",
              "5781            $1,100       $181,041        $181,041  \n",
              "\n",
              "[5782 rows x 6 columns]"
            ],
            "text/html": [
              "\n",
              "  <div id=\"df-5fabaa39-520f-4080-8479-1be288bb0c8a\">\n",
              "    <div class=\"colab-df-container\">\n",
              "      <div>\n",
              "<style scoped>\n",
              "    .dataframe tbody tr th:only-of-type {\n",
              "        vertical-align: middle;\n",
              "    }\n",
              "\n",
              "    .dataframe tbody tr th {\n",
              "        vertical-align: top;\n",
              "    }\n",
              "\n",
              "    .dataframe thead th {\n",
              "        text-align: right;\n",
              "    }\n",
              "</style>\n",
              "<table border=\"1\" class=\"dataframe\">\n",
              "  <thead>\n",
              "    <tr style=\"text-align: right;\">\n",
              "      <th></th>\n",
              "      <th>id</th>\n",
              "      <th>release_date</th>\n",
              "      <th>movie</th>\n",
              "      <th>production_budget</th>\n",
              "      <th>domestic_gross</th>\n",
              "      <th>worldwide_gross</th>\n",
              "    </tr>\n",
              "  </thead>\n",
              "  <tbody>\n",
              "    <tr>\n",
              "      <th>0</th>\n",
              "      <td>1</td>\n",
              "      <td>Dec 18, 2009</td>\n",
              "      <td>Avatar</td>\n",
              "      <td>$425,000,000</td>\n",
              "      <td>$760,507,625</td>\n",
              "      <td>$2,776,345,279</td>\n",
              "    </tr>\n",
              "    <tr>\n",
              "      <th>1</th>\n",
              "      <td>2</td>\n",
              "      <td>May 20, 2011</td>\n",
              "      <td>Pirates of the Caribbean: On Stranger Tides</td>\n",
              "      <td>$410,600,000</td>\n",
              "      <td>$241,063,875</td>\n",
              "      <td>$1,045,663,875</td>\n",
              "    </tr>\n",
              "    <tr>\n",
              "      <th>2</th>\n",
              "      <td>3</td>\n",
              "      <td>Jun 7, 2019</td>\n",
              "      <td>Dark Phoenix</td>\n",
              "      <td>$350,000,000</td>\n",
              "      <td>$42,762,350</td>\n",
              "      <td>$149,762,350</td>\n",
              "    </tr>\n",
              "    <tr>\n",
              "      <th>3</th>\n",
              "      <td>4</td>\n",
              "      <td>May 1, 2015</td>\n",
              "      <td>Avengers: Age of Ultron</td>\n",
              "      <td>$330,600,000</td>\n",
              "      <td>$459,005,868</td>\n",
              "      <td>$1,403,013,963</td>\n",
              "    </tr>\n",
              "    <tr>\n",
              "      <th>4</th>\n",
              "      <td>5</td>\n",
              "      <td>Dec 15, 2017</td>\n",
              "      <td>Star Wars Ep. VIII: The Last Jedi</td>\n",
              "      <td>$317,000,000</td>\n",
              "      <td>$620,181,382</td>\n",
              "      <td>$1,316,721,747</td>\n",
              "    </tr>\n",
              "    <tr>\n",
              "      <th>...</th>\n",
              "      <td>...</td>\n",
              "      <td>...</td>\n",
              "      <td>...</td>\n",
              "      <td>...</td>\n",
              "      <td>...</td>\n",
              "      <td>...</td>\n",
              "    </tr>\n",
              "    <tr>\n",
              "      <th>5777</th>\n",
              "      <td>78</td>\n",
              "      <td>Dec 31, 2018</td>\n",
              "      <td>Red 11</td>\n",
              "      <td>$7,000</td>\n",
              "      <td>$0</td>\n",
              "      <td>$0</td>\n",
              "    </tr>\n",
              "    <tr>\n",
              "      <th>5778</th>\n",
              "      <td>79</td>\n",
              "      <td>Apr 2, 1999</td>\n",
              "      <td>Following</td>\n",
              "      <td>$6,000</td>\n",
              "      <td>$48,482</td>\n",
              "      <td>$240,495</td>\n",
              "    </tr>\n",
              "    <tr>\n",
              "      <th>5779</th>\n",
              "      <td>80</td>\n",
              "      <td>Jul 13, 2005</td>\n",
              "      <td>Return to the Land of Wonders</td>\n",
              "      <td>$5,000</td>\n",
              "      <td>$1,338</td>\n",
              "      <td>$1,338</td>\n",
              "    </tr>\n",
              "    <tr>\n",
              "      <th>5780</th>\n",
              "      <td>81</td>\n",
              "      <td>Sep 29, 2015</td>\n",
              "      <td>A Plague So Pleasant</td>\n",
              "      <td>$1,400</td>\n",
              "      <td>$0</td>\n",
              "      <td>$0</td>\n",
              "    </tr>\n",
              "    <tr>\n",
              "      <th>5781</th>\n",
              "      <td>82</td>\n",
              "      <td>Aug 5, 2005</td>\n",
              "      <td>My Date With Drew</td>\n",
              "      <td>$1,100</td>\n",
              "      <td>$181,041</td>\n",
              "      <td>$181,041</td>\n",
              "    </tr>\n",
              "  </tbody>\n",
              "</table>\n",
              "<p>5782 rows × 6 columns</p>\n",
              "</div>\n",
              "      <button class=\"colab-df-convert\" onclick=\"convertToInteractive('df-5fabaa39-520f-4080-8479-1be288bb0c8a')\"\n",
              "              title=\"Convert this dataframe to an interactive table.\"\n",
              "              style=\"display:none;\">\n",
              "        \n",
              "  <svg xmlns=\"http://www.w3.org/2000/svg\" height=\"24px\"viewBox=\"0 0 24 24\"\n",
              "       width=\"24px\">\n",
              "    <path d=\"M0 0h24v24H0V0z\" fill=\"none\"/>\n",
              "    <path d=\"M18.56 5.44l.94 2.06.94-2.06 2.06-.94-2.06-.94-.94-2.06-.94 2.06-2.06.94zm-11 1L8.5 8.5l.94-2.06 2.06-.94-2.06-.94L8.5 2.5l-.94 2.06-2.06.94zm10 10l.94 2.06.94-2.06 2.06-.94-2.06-.94-.94-2.06-.94 2.06-2.06.94z\"/><path d=\"M17.41 7.96l-1.37-1.37c-.4-.4-.92-.59-1.43-.59-.52 0-1.04.2-1.43.59L10.3 9.45l-7.72 7.72c-.78.78-.78 2.05 0 2.83L4 21.41c.39.39.9.59 1.41.59.51 0 1.02-.2 1.41-.59l7.78-7.78 2.81-2.81c.8-.78.8-2.07 0-2.86zM5.41 20L4 18.59l7.72-7.72 1.47 1.35L5.41 20z\"/>\n",
              "  </svg>\n",
              "      </button>\n",
              "      \n",
              "  <style>\n",
              "    .colab-df-container {\n",
              "      display:flex;\n",
              "      flex-wrap:wrap;\n",
              "      gap: 12px;\n",
              "    }\n",
              "\n",
              "    .colab-df-convert {\n",
              "      background-color: #E8F0FE;\n",
              "      border: none;\n",
              "      border-radius: 50%;\n",
              "      cursor: pointer;\n",
              "      display: none;\n",
              "      fill: #1967D2;\n",
              "      height: 32px;\n",
              "      padding: 0 0 0 0;\n",
              "      width: 32px;\n",
              "    }\n",
              "\n",
              "    .colab-df-convert:hover {\n",
              "      background-color: #E2EBFA;\n",
              "      box-shadow: 0px 1px 2px rgba(60, 64, 67, 0.3), 0px 1px 3px 1px rgba(60, 64, 67, 0.15);\n",
              "      fill: #174EA6;\n",
              "    }\n",
              "\n",
              "    [theme=dark] .colab-df-convert {\n",
              "      background-color: #3B4455;\n",
              "      fill: #D2E3FC;\n",
              "    }\n",
              "\n",
              "    [theme=dark] .colab-df-convert:hover {\n",
              "      background-color: #434B5C;\n",
              "      box-shadow: 0px 1px 3px 1px rgba(0, 0, 0, 0.15);\n",
              "      filter: drop-shadow(0px 1px 2px rgba(0, 0, 0, 0.3));\n",
              "      fill: #FFFFFF;\n",
              "    }\n",
              "  </style>\n",
              "\n",
              "      <script>\n",
              "        const buttonEl =\n",
              "          document.querySelector('#df-5fabaa39-520f-4080-8479-1be288bb0c8a button.colab-df-convert');\n",
              "        buttonEl.style.display =\n",
              "          google.colab.kernel.accessAllowed ? 'block' : 'none';\n",
              "\n",
              "        async function convertToInteractive(key) {\n",
              "          const element = document.querySelector('#df-5fabaa39-520f-4080-8479-1be288bb0c8a');\n",
              "          const dataTable =\n",
              "            await google.colab.kernel.invokeFunction('convertToInteractive',\n",
              "                                                     [key], {});\n",
              "          if (!dataTable) return;\n",
              "\n",
              "          const docLinkHtml = 'Like what you see? Visit the ' +\n",
              "            '<a target=\"_blank\" href=https://colab.research.google.com/notebooks/data_table.ipynb>data table notebook</a>'\n",
              "            + ' to learn more about interactive tables.';\n",
              "          element.innerHTML = '';\n",
              "          dataTable['output_type'] = 'display_data';\n",
              "          await google.colab.output.renderOutput(dataTable, element);\n",
              "          const docLink = document.createElement('div');\n",
              "          docLink.innerHTML = docLinkHtml;\n",
              "          element.appendChild(docLink);\n",
              "        }\n",
              "      </script>\n",
              "    </div>\n",
              "  </div>\n",
              "  "
            ]
          },
          "metadata": {},
          "execution_count": 20
        }
      ]
    },
    {
      "cell_type": "code",
      "source": [
        "movies_data = pd.read_csv('/content/Phase_1_project/title.basics.csv')\n",
        "movies_data"
      ],
      "metadata": {
        "colab": {
          "base_uri": "https://localhost:8080/",
          "height": 485
        },
        "id": "C0YlOrIaZw49",
        "outputId": "e4d89a76-2915-4cf3-c4f9-b33e1e3f57b1"
      },
      "execution_count": 22,
      "outputs": [
        {
          "output_type": "execute_result",
          "data": {
            "text/plain": [
              "           tconst                                primary_title  \\\n",
              "0       tt0063540                                    Sunghursh   \n",
              "1       tt0066787              One Day Before the Rainy Season   \n",
              "2       tt0069049                   The Other Side of the Wind   \n",
              "3       tt0069204                              Sabse Bada Sukh   \n",
              "4       tt0100275                     The Wandering Soap Opera   \n",
              "...           ...                                          ...   \n",
              "146139  tt9916538                          Kuambil Lagi Hatiku   \n",
              "146140  tt9916622  Rodolpho Teóphilo - O Legado de um Pioneiro   \n",
              "146141  tt9916706                              Dankyavar Danka   \n",
              "146142  tt9916730                                       6 Gunn   \n",
              "146143  tt9916754               Chico Albuquerque - Revelações   \n",
              "\n",
              "                                     original_title  start_year  \\\n",
              "0                                         Sunghursh        2013   \n",
              "1                                   Ashad Ka Ek Din        2019   \n",
              "2                        The Other Side of the Wind        2018   \n",
              "3                                   Sabse Bada Sukh        2018   \n",
              "4                             La Telenovela Errante        2017   \n",
              "...                                             ...         ...   \n",
              "146139                          Kuambil Lagi Hatiku        2019   \n",
              "146140  Rodolpho Teóphilo - O Legado de um Pioneiro        2015   \n",
              "146141                              Dankyavar Danka        2013   \n",
              "146142                                       6 Gunn        2017   \n",
              "146143               Chico Albuquerque - Revelações        2013   \n",
              "\n",
              "        runtime_minutes                genres  \n",
              "0                 175.0    Action,Crime,Drama  \n",
              "1                 114.0       Biography,Drama  \n",
              "2                 122.0                 Drama  \n",
              "3                   NaN          Comedy,Drama  \n",
              "4                  80.0  Comedy,Drama,Fantasy  \n",
              "...                 ...                   ...  \n",
              "146139            123.0                 Drama  \n",
              "146140              NaN           Documentary  \n",
              "146141              NaN                Comedy  \n",
              "146142            116.0                   NaN  \n",
              "146143              NaN           Documentary  \n",
              "\n",
              "[146144 rows x 6 columns]"
            ],
            "text/html": [
              "\n",
              "  <div id=\"df-c1198773-c00f-46f7-bf84-91d06179a64d\">\n",
              "    <div class=\"colab-df-container\">\n",
              "      <div>\n",
              "<style scoped>\n",
              "    .dataframe tbody tr th:only-of-type {\n",
              "        vertical-align: middle;\n",
              "    }\n",
              "\n",
              "    .dataframe tbody tr th {\n",
              "        vertical-align: top;\n",
              "    }\n",
              "\n",
              "    .dataframe thead th {\n",
              "        text-align: right;\n",
              "    }\n",
              "</style>\n",
              "<table border=\"1\" class=\"dataframe\">\n",
              "  <thead>\n",
              "    <tr style=\"text-align: right;\">\n",
              "      <th></th>\n",
              "      <th>tconst</th>\n",
              "      <th>primary_title</th>\n",
              "      <th>original_title</th>\n",
              "      <th>start_year</th>\n",
              "      <th>runtime_minutes</th>\n",
              "      <th>genres</th>\n",
              "    </tr>\n",
              "  </thead>\n",
              "  <tbody>\n",
              "    <tr>\n",
              "      <th>0</th>\n",
              "      <td>tt0063540</td>\n",
              "      <td>Sunghursh</td>\n",
              "      <td>Sunghursh</td>\n",
              "      <td>2013</td>\n",
              "      <td>175.0</td>\n",
              "      <td>Action,Crime,Drama</td>\n",
              "    </tr>\n",
              "    <tr>\n",
              "      <th>1</th>\n",
              "      <td>tt0066787</td>\n",
              "      <td>One Day Before the Rainy Season</td>\n",
              "      <td>Ashad Ka Ek Din</td>\n",
              "      <td>2019</td>\n",
              "      <td>114.0</td>\n",
              "      <td>Biography,Drama</td>\n",
              "    </tr>\n",
              "    <tr>\n",
              "      <th>2</th>\n",
              "      <td>tt0069049</td>\n",
              "      <td>The Other Side of the Wind</td>\n",
              "      <td>The Other Side of the Wind</td>\n",
              "      <td>2018</td>\n",
              "      <td>122.0</td>\n",
              "      <td>Drama</td>\n",
              "    </tr>\n",
              "    <tr>\n",
              "      <th>3</th>\n",
              "      <td>tt0069204</td>\n",
              "      <td>Sabse Bada Sukh</td>\n",
              "      <td>Sabse Bada Sukh</td>\n",
              "      <td>2018</td>\n",
              "      <td>NaN</td>\n",
              "      <td>Comedy,Drama</td>\n",
              "    </tr>\n",
              "    <tr>\n",
              "      <th>4</th>\n",
              "      <td>tt0100275</td>\n",
              "      <td>The Wandering Soap Opera</td>\n",
              "      <td>La Telenovela Errante</td>\n",
              "      <td>2017</td>\n",
              "      <td>80.0</td>\n",
              "      <td>Comedy,Drama,Fantasy</td>\n",
              "    </tr>\n",
              "    <tr>\n",
              "      <th>...</th>\n",
              "      <td>...</td>\n",
              "      <td>...</td>\n",
              "      <td>...</td>\n",
              "      <td>...</td>\n",
              "      <td>...</td>\n",
              "      <td>...</td>\n",
              "    </tr>\n",
              "    <tr>\n",
              "      <th>146139</th>\n",
              "      <td>tt9916538</td>\n",
              "      <td>Kuambil Lagi Hatiku</td>\n",
              "      <td>Kuambil Lagi Hatiku</td>\n",
              "      <td>2019</td>\n",
              "      <td>123.0</td>\n",
              "      <td>Drama</td>\n",
              "    </tr>\n",
              "    <tr>\n",
              "      <th>146140</th>\n",
              "      <td>tt9916622</td>\n",
              "      <td>Rodolpho Teóphilo - O Legado de um Pioneiro</td>\n",
              "      <td>Rodolpho Teóphilo - O Legado de um Pioneiro</td>\n",
              "      <td>2015</td>\n",
              "      <td>NaN</td>\n",
              "      <td>Documentary</td>\n",
              "    </tr>\n",
              "    <tr>\n",
              "      <th>146141</th>\n",
              "      <td>tt9916706</td>\n",
              "      <td>Dankyavar Danka</td>\n",
              "      <td>Dankyavar Danka</td>\n",
              "      <td>2013</td>\n",
              "      <td>NaN</td>\n",
              "      <td>Comedy</td>\n",
              "    </tr>\n",
              "    <tr>\n",
              "      <th>146142</th>\n",
              "      <td>tt9916730</td>\n",
              "      <td>6 Gunn</td>\n",
              "      <td>6 Gunn</td>\n",
              "      <td>2017</td>\n",
              "      <td>116.0</td>\n",
              "      <td>NaN</td>\n",
              "    </tr>\n",
              "    <tr>\n",
              "      <th>146143</th>\n",
              "      <td>tt9916754</td>\n",
              "      <td>Chico Albuquerque - Revelações</td>\n",
              "      <td>Chico Albuquerque - Revelações</td>\n",
              "      <td>2013</td>\n",
              "      <td>NaN</td>\n",
              "      <td>Documentary</td>\n",
              "    </tr>\n",
              "  </tbody>\n",
              "</table>\n",
              "<p>146144 rows × 6 columns</p>\n",
              "</div>\n",
              "      <button class=\"colab-df-convert\" onclick=\"convertToInteractive('df-c1198773-c00f-46f7-bf84-91d06179a64d')\"\n",
              "              title=\"Convert this dataframe to an interactive table.\"\n",
              "              style=\"display:none;\">\n",
              "        \n",
              "  <svg xmlns=\"http://www.w3.org/2000/svg\" height=\"24px\"viewBox=\"0 0 24 24\"\n",
              "       width=\"24px\">\n",
              "    <path d=\"M0 0h24v24H0V0z\" fill=\"none\"/>\n",
              "    <path d=\"M18.56 5.44l.94 2.06.94-2.06 2.06-.94-2.06-.94-.94-2.06-.94 2.06-2.06.94zm-11 1L8.5 8.5l.94-2.06 2.06-.94-2.06-.94L8.5 2.5l-.94 2.06-2.06.94zm10 10l.94 2.06.94-2.06 2.06-.94-2.06-.94-.94-2.06-.94 2.06-2.06.94z\"/><path d=\"M17.41 7.96l-1.37-1.37c-.4-.4-.92-.59-1.43-.59-.52 0-1.04.2-1.43.59L10.3 9.45l-7.72 7.72c-.78.78-.78 2.05 0 2.83L4 21.41c.39.39.9.59 1.41.59.51 0 1.02-.2 1.41-.59l7.78-7.78 2.81-2.81c.8-.78.8-2.07 0-2.86zM5.41 20L4 18.59l7.72-7.72 1.47 1.35L5.41 20z\"/>\n",
              "  </svg>\n",
              "      </button>\n",
              "      \n",
              "  <style>\n",
              "    .colab-df-container {\n",
              "      display:flex;\n",
              "      flex-wrap:wrap;\n",
              "      gap: 12px;\n",
              "    }\n",
              "\n",
              "    .colab-df-convert {\n",
              "      background-color: #E8F0FE;\n",
              "      border: none;\n",
              "      border-radius: 50%;\n",
              "      cursor: pointer;\n",
              "      display: none;\n",
              "      fill: #1967D2;\n",
              "      height: 32px;\n",
              "      padding: 0 0 0 0;\n",
              "      width: 32px;\n",
              "    }\n",
              "\n",
              "    .colab-df-convert:hover {\n",
              "      background-color: #E2EBFA;\n",
              "      box-shadow: 0px 1px 2px rgba(60, 64, 67, 0.3), 0px 1px 3px 1px rgba(60, 64, 67, 0.15);\n",
              "      fill: #174EA6;\n",
              "    }\n",
              "\n",
              "    [theme=dark] .colab-df-convert {\n",
              "      background-color: #3B4455;\n",
              "      fill: #D2E3FC;\n",
              "    }\n",
              "\n",
              "    [theme=dark] .colab-df-convert:hover {\n",
              "      background-color: #434B5C;\n",
              "      box-shadow: 0px 1px 3px 1px rgba(0, 0, 0, 0.15);\n",
              "      filter: drop-shadow(0px 1px 2px rgba(0, 0, 0, 0.3));\n",
              "      fill: #FFFFFF;\n",
              "    }\n",
              "  </style>\n",
              "\n",
              "      <script>\n",
              "        const buttonEl =\n",
              "          document.querySelector('#df-c1198773-c00f-46f7-bf84-91d06179a64d button.colab-df-convert');\n",
              "        buttonEl.style.display =\n",
              "          google.colab.kernel.accessAllowed ? 'block' : 'none';\n",
              "\n",
              "        async function convertToInteractive(key) {\n",
              "          const element = document.querySelector('#df-c1198773-c00f-46f7-bf84-91d06179a64d');\n",
              "          const dataTable =\n",
              "            await google.colab.kernel.invokeFunction('convertToInteractive',\n",
              "                                                     [key], {});\n",
              "          if (!dataTable) return;\n",
              "\n",
              "          const docLinkHtml = 'Like what you see? Visit the ' +\n",
              "            '<a target=\"_blank\" href=https://colab.research.google.com/notebooks/data_table.ipynb>data table notebook</a>'\n",
              "            + ' to learn more about interactive tables.';\n",
              "          element.innerHTML = '';\n",
              "          dataTable['output_type'] = 'display_data';\n",
              "          await google.colab.output.renderOutput(dataTable, element);\n",
              "          const docLink = document.createElement('div');\n",
              "          docLink.innerHTML = docLinkHtml;\n",
              "          element.appendChild(docLink);\n",
              "        }\n",
              "      </script>\n",
              "    </div>\n",
              "  </div>\n",
              "  "
            ]
          },
          "metadata": {},
          "execution_count": 22
        }
      ]
    },
    {
      "cell_type": "code",
      "source": [
        "!git init"
      ],
      "metadata": {
        "colab": {
          "base_uri": "https://localhost:8080/"
        },
        "id": "KL_nWdP3ccqe",
        "outputId": "7cc02ca4-cf61-4078-c104-d0d09d6193ac"
      },
      "execution_count": 45,
      "outputs": [
        {
          "output_type": "stream",
          "name": "stdout",
          "text": [
            "Reinitialized existing Git repository in /content/.git/\n"
          ]
        }
      ]
    },
    {
      "cell_type": "markdown",
      "metadata": {
        "id": "OI3P3YnHUEBk"
      },
      "source": [
        "\n",
        "\n",
        "## 3. Checking the Data"
      ]
    },
    {
      "cell_type": "code",
      "source": [
        "!git add ."
      ],
      "metadata": {
        "id": "25wp2kUqcjau"
      },
      "execution_count": 54,
      "outputs": []
    },
    {
      "cell_type": "code",
      "source": [
        "!git config --global user.email \"ndana.wainaina55@gmail.com\""
      ],
      "metadata": {
        "id": "VaA_Wa7FcpAc"
      },
      "execution_count": 55,
      "outputs": []
    },
    {
      "cell_type": "code",
      "source": [
        "!git status"
      ],
      "metadata": {
        "colab": {
          "base_uri": "https://localhost:8080/"
        },
        "id": "bxT_IkDUgGZj",
        "outputId": "98626273-5303-497d-94fa-58c0d9f35dc5"
      },
      "execution_count": 56,
      "outputs": [
        {
          "output_type": "stream",
          "name": "stdout",
          "text": [
            "On branch master\n",
            "nothing to commit, working tree clean\n"
          ]
        }
      ]
    },
    {
      "cell_type": "code",
      "source": [
        "!git config --global user.name \"DennisWainaina\""
      ],
      "metadata": {
        "id": "c5-R9abMc56U"
      },
      "execution_count": 42,
      "outputs": []
    },
    {
      "cell_type": "code",
      "source": [
        "!git config --global user.email"
      ],
      "metadata": {
        "colab": {
          "base_uri": "https://localhost:8080/"
        },
        "id": "G-zhcMJAgPvI",
        "outputId": "31ebadef-7705-4233-b0d3-7e8e9286f161"
      },
      "execution_count": 53,
      "outputs": [
        {
          "output_type": "stream",
          "name": "stdout",
          "text": [
            "ndana.wainaina55@gmail.com\n"
          ]
        }
      ]
    },
    {
      "cell_type": "code",
      "source": [
        "!git push  origin master"
      ],
      "metadata": {
        "colab": {
          "base_uri": "https://localhost:8080/"
        },
        "id": "4fst5u7aeSuq",
        "outputId": "5e9c7d50-48fd-4e5b-d0c4-cbfce86d7d9b"
      },
      "execution_count": 57,
      "outputs": [
        {
          "output_type": "stream",
          "name": "stdout",
          "text": [
            "fatal: could not read Username for 'https://github.com': No such device or address\n"
          ]
        }
      ]
    },
    {
      "cell_type": "code",
      "source": [
        "!git commit -am \"Initial commit\""
      ],
      "metadata": {
        "colab": {
          "base_uri": "https://localhost:8080/"
        },
        "id": "Obj30YeQdH0T",
        "outputId": "3bcc9bd2-4a13-4c17-b515-e55429a1c953"
      },
      "execution_count": 35,
      "outputs": [
        {
          "output_type": "stream",
          "name": "stdout",
          "text": [
            "On branch master\n",
            "nothing to commit, working tree clean\n"
          ]
        }
      ]
    },
    {
      "cell_type": "code",
      "source": [
        "!git remote add origin \"https://github.com/DennisWainaina/Phase_1_project\""
      ],
      "metadata": {
        "id": "cns5yJvudfMl"
      },
      "execution_count": 31,
      "outputs": []
    },
    {
      "cell_type": "code",
      "source": [
        "!git push origin master"
      ],
      "metadata": {
        "colab": {
          "base_uri": "https://localhost:8080/"
        },
        "id": "CiwNUvnvdvk5",
        "outputId": "809d3aa3-ac06-4f88-e7bd-8076edd14d03"
      },
      "execution_count": 38,
      "outputs": [
        {
          "output_type": "stream",
          "name": "stdout",
          "text": [
            "fatal: could not read Username for 'https://github.com': No such device or address\n"
          ]
        }
      ]
    },
    {
      "cell_type": "code",
      "metadata": {
        "id": "YjSVNwgptHxY"
      },
      "source": [
        "# Determining the no. of records in our dataset\n",
        "#"
      ],
      "execution_count": null,
      "outputs": []
    },
    {
      "cell_type": "code",
      "source": [],
      "metadata": {
        "id": "Sfd4_1_qdGiP"
      },
      "execution_count": null,
      "outputs": []
    },
    {
      "cell_type": "code",
      "metadata": {
        "id": "xHhTw5eKWr0n"
      },
      "source": [
        "# Previewing the top of our dataset\n",
        "#"
      ],
      "execution_count": null,
      "outputs": []
    },
    {
      "cell_type": "code",
      "metadata": {
        "id": "e9AzGcZFrIIr"
      },
      "source": [
        "# Previewing the bottom of our dataset\n",
        "# "
      ],
      "execution_count": null,
      "outputs": []
    },
    {
      "cell_type": "code",
      "metadata": {
        "id": "n8-dW4sQWzbc"
      },
      "source": [
        "# Checking whether each column has an appropriate datatype\n",
        "#"
      ],
      "execution_count": null,
      "outputs": []
    },
    {
      "cell_type": "code",
      "source": [],
      "metadata": {
        "id": "aHdaTeAdZvAp"
      },
      "execution_count": null,
      "outputs": []
    },
    {
      "cell_type": "markdown",
      "metadata": {
        "id": "ckfufNrcUHeH"
      },
      "source": [
        "## 4. External Data Source Validation"
      ]
    },
    {
      "cell_type": "markdown",
      "metadata": {
        "id": "6L4sl_0WXlbg"
      },
      "source": [
        "Making sure your data matches something outside of the dataset is very important. It allows you to ensure that the measurements are roughly in line with what they should be and it serves as a check on what other things might be wrong in your dataset. External validation can often be as simple as checking your data against a single number, as we will do here."
      ]
    },
    {
      "cell_type": "markdown",
      "metadata": {
        "id": "6XC_g-zKxe-r"
      },
      "source": [
        "### a.Validation"
      ]
    },
    {
      "cell_type": "markdown",
      "metadata": {
        "id": "FlBMxEDBUc9B"
      },
      "source": [
        "## 5. Tidying the Dataset"
      ]
    },
    {
      "cell_type": "code",
      "metadata": {
        "id": "5o_bQcT5W3Wz"
      },
      "source": [
        "# Checking for Outliers\n",
        "#"
      ],
      "execution_count": null,
      "outputs": []
    },
    {
      "cell_type": "code",
      "metadata": {
        "id": "PWlukLKUvFQN"
      },
      "source": [
        "# Checking for Anomalies\n",
        "#"
      ],
      "execution_count": null,
      "outputs": []
    },
    {
      "cell_type": "code",
      "metadata": {
        "id": "PvCYb6dgW4yh"
      },
      "source": [
        "# Identifying the Missing Data\n",
        "#"
      ],
      "execution_count": null,
      "outputs": []
    },
    {
      "cell_type": "code",
      "metadata": {
        "id": "MpsDGKZHsf_W"
      },
      "source": [
        "# Dealing with the Missing Data\n",
        "#"
      ],
      "execution_count": null,
      "outputs": []
    },
    {
      "cell_type": "code",
      "metadata": {
        "id": "D-4I__6Os4C5"
      },
      "source": [
        "# More data cleaning procedures\n",
        "#"
      ],
      "execution_count": null,
      "outputs": []
    },
    {
      "cell_type": "markdown",
      "metadata": {
        "id": "rF2ABPsHUtbZ"
      },
      "source": [
        "## 6. Exploratory Analysis"
      ]
    },
    {
      "cell_type": "code",
      "metadata": {
        "id": "5nnRToniXGDK"
      },
      "source": [
        "# Ploting the bivariate summaries and recording our observations\n",
        "#"
      ],
      "execution_count": null,
      "outputs": []
    },
    {
      "cell_type": "code",
      "metadata": {
        "id": "6UzyQC6kmdBi"
      },
      "source": [
        "# Data Reduction\n",
        "#"
      ],
      "execution_count": null,
      "outputs": []
    },
    {
      "cell_type": "markdown",
      "metadata": {
        "id": "vTbdjSrhVIiT"
      },
      "source": [
        "## 7. Implementing the Solution"
      ]
    },
    {
      "cell_type": "code",
      "metadata": {
        "id": "PJLZaRzJXJ3w"
      },
      "source": [
        "# Implementing the Solution\n",
        "# "
      ],
      "execution_count": null,
      "outputs": []
    },
    {
      "cell_type": "markdown",
      "metadata": {
        "id": "lQ2G4ZPDVOXE"
      },
      "source": [
        "## 8. Challenging the solution"
      ]
    },
    {
      "cell_type": "markdown",
      "metadata": {
        "id": "jWVGKGuiYMWg"
      },
      "source": [
        "> The easy solution is nice because it is, well, easy, but you should never allow those results to hold the day. You should always be thinking of ways to challenge the results, especially if those results comport with your prior expectation.\n",
        "\n",
        "\n",
        "\n",
        "\n"
      ]
    },
    {
      "cell_type": "code",
      "metadata": {
        "id": "j3x3SXZ4XT_L"
      },
      "source": [
        "# Reviewing the Solution \n",
        "#"
      ],
      "execution_count": null,
      "outputs": []
    },
    {
      "cell_type": "markdown",
      "metadata": {
        "id": "xrmHVMVsVS--"
      },
      "source": [
        "## 9. Follow up questions"
      ]
    },
    {
      "cell_type": "markdown",
      "metadata": {
        "id": "pth2qSWhuBIy"
      },
      "source": [
        "> At this point, we can refine our question or collect new data, all in an iterative process to get at the truth.\n",
        "\n"
      ]
    },
    {
      "cell_type": "markdown",
      "metadata": {
        "id": "HPQviDmNtta8"
      },
      "source": [
        "### a). Did we have the right data?"
      ]
    },
    {
      "cell_type": "markdown",
      "metadata": {
        "id": "qjFHK1CKty7o"
      },
      "source": [
        "### b). Do we need other data to answer our question?"
      ]
    },
    {
      "cell_type": "markdown",
      "metadata": {
        "id": "HSsicSdvt4Zs"
      },
      "source": [
        "### c). Did we have the right question?"
      ]
    }
  ]
}